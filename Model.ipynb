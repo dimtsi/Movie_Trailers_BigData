{
 "cells": [
  {
   "cell_type": "code",
   "execution_count": 57,
   "metadata": {},
   "outputs": [],
   "source": [
    "import pandas as pd\n",
    "import matplotlib.pyplot as plt\n",
    "import numpy as np\n",
    "import sklearn\n",
    "from sklearn import datasets, linear_model\n",
    "from sklearn.metrics import mean_squared_error, r2_score,mean_absolute_error\n",
    "from sklearn.cross_validation import train_test_split\n",
    "from sklearn.metrics import mean_squared_error\n"
   ]
  },
  {
   "cell_type": "code",
   "execution_count": 21,
   "metadata": {},
   "outputs": [],
   "source": [
    "regres=pd.read_csv(\"regresss.csv\").drop(columns=[\"Unnamed: 0\"]).dropna()"
   ]
  },
  {
   "cell_type": "code",
   "execution_count": 53,
   "metadata": {},
   "outputs": [
    {
     "name": "stdout",
     "output_type": "stream",
     "text": [
      "Intercept: \n",
      " 46.17831726262064\n",
      "Coefficients: \n",
      " [ 4.04458168e+03  5.30472960e-07 -1.41450309e-06  2.35481548e-06\n",
      "  7.78807200e+04 -3.34149741e+04 -3.47789015e+04 -5.91600687e+02\n",
      " -4.72706912e+04 -5.80894266e-08  3.64862130e+03  2.20254151e-07\n",
      " -1.60970633e+04 -4.36323950e+01 -5.11621931e+02 -8.64338439e+02\n",
      "  1.94975556e+04  5.59282915e+04 -3.28594881e+03 -1.58251972e+04\n",
      "  2.64323167e+04  2.57495931e+04  4.72859944e+03 -6.89871974e+04\n",
      "  1.85107176e+04  6.20921719e+03 -7.14502328e+03 -7.44873543e+03\n",
      " -3.72597804e+04  1.88589906e+04 -6.30699734e+04  1.25695612e+04\n",
      "  7.66291148e+03 -2.01482743e+04  6.55395056e+04  9.18202328e+03\n",
      "  3.91434315e+04 -2.41149030e+01  2.02200307e+05  8.77058803e+04\n",
      " -3.23048003e+01 -2.05967368e+01  2.44351234e+01]\n"
     ]
    }
   ],
   "source": [
    "X = regres.drop(columns='box office') \n",
    "X=sklearn.preprocessing.normalize(X)\n",
    "Y = regres['box office']/1000000\n",
    "X_train, X_test, y_train, y_test = train_test_split(X, Y, test_size = 0.2, random_state = 0)\n",
    "regr = linear_model.LinearRegression()\n",
    "regr.fit(X_train, y_train)\n",
    "print('Intercept: \\n', regr.intercept_)\n",
    "print('Coefficients: \\n', regr.coef_)"
   ]
  },
  {
   "cell_type": "code",
   "execution_count": 54,
   "metadata": {},
   "outputs": [],
   "source": [
    "y_pred = regr.predict(X_test)\n"
   ]
  },
  {
   "cell_type": "code",
   "execution_count": 58,
   "metadata": {},
   "outputs": [
    {
     "data": {
      "text/plain": [
       "28.91644109676679"
      ]
     },
     "execution_count": 58,
     "metadata": {},
     "output_type": "execute_result"
    }
   ],
   "source": [
    "mean_absolute_error(y_pred,y_test)"
   ]
  }
 ],
 "metadata": {
  "kernelspec": {
   "display_name": "Python 3",
   "language": "python",
   "name": "python3"
  },
  "language_info": {
   "codemirror_mode": {
    "name": "ipython",
    "version": 3
   },
   "file_extension": ".py",
   "mimetype": "text/x-python",
   "name": "python",
   "nbconvert_exporter": "python",
   "pygments_lexer": "ipython3",
   "version": "3.6.5"
  }
 },
 "nbformat": 4,
 "nbformat_minor": 2
}
