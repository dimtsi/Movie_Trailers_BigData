{
 "cells": [
  {
   "cell_type": "code",
   "execution_count": 139,
   "metadata": {},
   "outputs": [
    {
     "data": {
      "text/html": [
       "<div>\n",
       "<style scoped>\n",
       "    .dataframe tbody tr th:only-of-type {\n",
       "        vertical-align: middle;\n",
       "    }\n",
       "\n",
       "    .dataframe tbody tr th {\n",
       "        vertical-align: top;\n",
       "    }\n",
       "\n",
       "    .dataframe thead th {\n",
       "        text-align: right;\n",
       "    }\n",
       "</style>\n",
       "<table border=\"1\" class=\"dataframe\">\n",
       "  <thead>\n",
       "    <tr style=\"text-align: right;\">\n",
       "      <th></th>\n",
       "      <th>Unnamed: 0</th>\n",
       "      <th>G</th>\n",
       "      <th>GP</th>\n",
       "      <th>M</th>\n",
       "      <th>M/PG</th>\n",
       "      <th>NC-17</th>\n",
       "      <th>Not Yet Rated</th>\n",
       "      <th>PG</th>\n",
       "      <th>PG-13</th>\n",
       "      <th>R</th>\n",
       "      <th>...</th>\n",
       "      <th>War</th>\n",
       "      <th>Western</th>\n",
       "      <th>Musical</th>\n",
       "      <th>News</th>\n",
       "      <th>Opening_Weekend</th>\n",
       "      <th>avg_pos</th>\n",
       "      <th>avg_neg</th>\n",
       "      <th>no_pos_comms</th>\n",
       "      <th>no_neg_comms</th>\n",
       "      <th>budget2</th>\n",
       "    </tr>\n",
       "  </thead>\n",
       "  <tbody>\n",
       "    <tr>\n",
       "      <th>0</th>\n",
       "      <td>0</td>\n",
       "      <td>0</td>\n",
       "      <td>0</td>\n",
       "      <td>0</td>\n",
       "      <td>0</td>\n",
       "      <td>0</td>\n",
       "      <td>0</td>\n",
       "      <td>0</td>\n",
       "      <td>0</td>\n",
       "      <td>1</td>\n",
       "      <td>...</td>\n",
       "      <td>0.0</td>\n",
       "      <td>0.0</td>\n",
       "      <td>0.0</td>\n",
       "      <td>0.0</td>\n",
       "      <td>55761</td>\n",
       "      <td>0.548040</td>\n",
       "      <td>-0.549934</td>\n",
       "      <td>2075</td>\n",
       "      <td>1400</td>\n",
       "      <td>1722</td>\n",
       "    </tr>\n",
       "    <tr>\n",
       "      <th>1</th>\n",
       "      <td>1</td>\n",
       "      <td>0</td>\n",
       "      <td>0</td>\n",
       "      <td>0</td>\n",
       "      <td>0</td>\n",
       "      <td>0</td>\n",
       "      <td>0</td>\n",
       "      <td>0</td>\n",
       "      <td>0</td>\n",
       "      <td>0</td>\n",
       "      <td>...</td>\n",
       "      <td>1.0</td>\n",
       "      <td>0.0</td>\n",
       "      <td>0.0</td>\n",
       "      <td>0.0</td>\n",
       "      <td>24120</td>\n",
       "      <td>0.596535</td>\n",
       "      <td>-0.535067</td>\n",
       "      <td>100</td>\n",
       "      <td>30</td>\n",
       "      <td>16985</td>\n",
       "    </tr>\n",
       "    <tr>\n",
       "      <th>2</th>\n",
       "      <td>2</td>\n",
       "      <td>0</td>\n",
       "      <td>0</td>\n",
       "      <td>0</td>\n",
       "      <td>0</td>\n",
       "      <td>0</td>\n",
       "      <td>0</td>\n",
       "      <td>0</td>\n",
       "      <td>1</td>\n",
       "      <td>0</td>\n",
       "      <td>...</td>\n",
       "      <td>0.0</td>\n",
       "      <td>0.0</td>\n",
       "      <td>0.0</td>\n",
       "      <td>0.0</td>\n",
       "      <td>24727437</td>\n",
       "      <td>0.547978</td>\n",
       "      <td>-0.533019</td>\n",
       "      <td>3084</td>\n",
       "      <td>2080</td>\n",
       "      <td>18063614</td>\n",
       "    </tr>\n",
       "    <tr>\n",
       "      <th>3</th>\n",
       "      <td>3</td>\n",
       "      <td>0</td>\n",
       "      <td>0</td>\n",
       "      <td>0</td>\n",
       "      <td>0</td>\n",
       "      <td>0</td>\n",
       "      <td>0</td>\n",
       "      <td>0</td>\n",
       "      <td>1</td>\n",
       "      <td>0</td>\n",
       "      <td>...</td>\n",
       "      <td>0.0</td>\n",
       "      <td>0.0</td>\n",
       "      <td>0.0</td>\n",
       "      <td>0.0</td>\n",
       "      <td>22707</td>\n",
       "      <td>0.561408</td>\n",
       "      <td>-0.522725</td>\n",
       "      <td>2244</td>\n",
       "      <td>1224</td>\n",
       "      <td>17358</td>\n",
       "    </tr>\n",
       "    <tr>\n",
       "      <th>4</th>\n",
       "      <td>4</td>\n",
       "      <td>0</td>\n",
       "      <td>0</td>\n",
       "      <td>0</td>\n",
       "      <td>0</td>\n",
       "      <td>0</td>\n",
       "      <td>0</td>\n",
       "      <td>0</td>\n",
       "      <td>0</td>\n",
       "      <td>0</td>\n",
       "      <td>...</td>\n",
       "      <td>0.0</td>\n",
       "      <td>0.0</td>\n",
       "      <td>0.0</td>\n",
       "      <td>0.0</td>\n",
       "      <td>3516</td>\n",
       "      <td>0.536705</td>\n",
       "      <td>-0.529111</td>\n",
       "      <td>1475</td>\n",
       "      <td>1415</td>\n",
       "      <td>934</td>\n",
       "    </tr>\n",
       "  </tbody>\n",
       "</table>\n",
       "<p>5 rows × 45 columns</p>\n",
       "</div>"
      ],
      "text/plain": [
       "   Unnamed: 0  G  GP  M  M/PG  NC-17  Not Yet Rated  PG  PG-13  R    ...     \\\n",
       "0           0  0   0  0     0      0              0   0      0  1    ...      \n",
       "1           1  0   0  0     0      0              0   0      0  0    ...      \n",
       "2           2  0   0  0     0      0              0   0      1  0    ...      \n",
       "3           3  0   0  0     0      0              0   0      1  0    ...      \n",
       "4           4  0   0  0     0      0              0   0      0  0    ...      \n",
       "\n",
       "   War  Western  Musical  News  Opening_Weekend   avg_pos   avg_neg  \\\n",
       "0  0.0      0.0      0.0   0.0            55761  0.548040 -0.549934   \n",
       "1  1.0      0.0      0.0   0.0            24120  0.596535 -0.535067   \n",
       "2  0.0      0.0      0.0   0.0         24727437  0.547978 -0.533019   \n",
       "3  0.0      0.0      0.0   0.0            22707  0.561408 -0.522725   \n",
       "4  0.0      0.0      0.0   0.0             3516  0.536705 -0.529111   \n",
       "\n",
       "   no_pos_comms  no_neg_comms   budget2  \n",
       "0          2075          1400      1722  \n",
       "1           100            30     16985  \n",
       "2          3084          2080  18063614  \n",
       "3          2244          1224     17358  \n",
       "4          1475          1415       934  \n",
       "\n",
       "[5 rows x 45 columns]"
      ]
     },
     "execution_count": 139,
     "metadata": {},
     "output_type": "execute_result"
    }
   ],
   "source": [
    "import pandas as pd\n",
    "# Read in data and display first 5 rows\n",
    "features = pd.read_csv('regress.csv')\n",
    "features.head(5)"
   ]
  },
  {
   "cell_type": "code",
   "execution_count": 140,
   "metadata": {},
   "outputs": [
    {
     "name": "stdout",
     "output_type": "stream",
     "text": [
      "The shape of our features is: (1226, 45)\n"
     ]
    }
   ],
   "source": [
    "print('The shape of our features is:', features.shape)"
   ]
  },
  {
   "cell_type": "code",
   "execution_count": 141,
   "metadata": {},
   "outputs": [
    {
     "data": {
      "text/html": [
       "<div>\n",
       "<style scoped>\n",
       "    .dataframe tbody tr th:only-of-type {\n",
       "        vertical-align: middle;\n",
       "    }\n",
       "\n",
       "    .dataframe tbody tr th {\n",
       "        vertical-align: top;\n",
       "    }\n",
       "\n",
       "    .dataframe thead th {\n",
       "        text-align: right;\n",
       "    }\n",
       "</style>\n",
       "<table border=\"1\" class=\"dataframe\">\n",
       "  <thead>\n",
       "    <tr style=\"text-align: right;\">\n",
       "      <th></th>\n",
       "      <th>Unnamed: 0</th>\n",
       "      <th>G</th>\n",
       "      <th>GP</th>\n",
       "      <th>M</th>\n",
       "      <th>M/PG</th>\n",
       "      <th>NC-17</th>\n",
       "      <th>Not Yet Rated</th>\n",
       "      <th>PG</th>\n",
       "      <th>PG-13</th>\n",
       "      <th>R</th>\n",
       "      <th>...</th>\n",
       "      <th>War</th>\n",
       "      <th>Western</th>\n",
       "      <th>Musical</th>\n",
       "      <th>News</th>\n",
       "      <th>Opening_Weekend</th>\n",
       "      <th>avg_pos</th>\n",
       "      <th>avg_neg</th>\n",
       "      <th>no_pos_comms</th>\n",
       "      <th>no_neg_comms</th>\n",
       "      <th>budget2</th>\n",
       "    </tr>\n",
       "  </thead>\n",
       "  <tbody>\n",
       "    <tr>\n",
       "      <th>count</th>\n",
       "      <td>1226.000000</td>\n",
       "      <td>1226.000000</td>\n",
       "      <td>1226.0</td>\n",
       "      <td>1226.0</td>\n",
       "      <td>1226.0</td>\n",
       "      <td>1226.000000</td>\n",
       "      <td>1226.000000</td>\n",
       "      <td>1226.000000</td>\n",
       "      <td>1226.000000</td>\n",
       "      <td>1226.000000</td>\n",
       "      <td>...</td>\n",
       "      <td>1226.000000</td>\n",
       "      <td>1226.000000</td>\n",
       "      <td>1226.000000</td>\n",
       "      <td>1226.000000</td>\n",
       "      <td>1.226000e+03</td>\n",
       "      <td>1225.000000</td>\n",
       "      <td>1221.000000</td>\n",
       "      <td>1226.000000</td>\n",
       "      <td>1226.000000</td>\n",
       "      <td>1.226000e+03</td>\n",
       "    </tr>\n",
       "    <tr>\n",
       "      <th>mean</th>\n",
       "      <td>612.500000</td>\n",
       "      <td>0.008972</td>\n",
       "      <td>0.0</td>\n",
       "      <td>0.0</td>\n",
       "      <td>0.0</td>\n",
       "      <td>0.001631</td>\n",
       "      <td>0.007341</td>\n",
       "      <td>0.106852</td>\n",
       "      <td>0.241436</td>\n",
       "      <td>0.311582</td>\n",
       "      <td>...</td>\n",
       "      <td>0.019576</td>\n",
       "      <td>0.004078</td>\n",
       "      <td>0.006525</td>\n",
       "      <td>0.003263</td>\n",
       "      <td>8.662315e+06</td>\n",
       "      <td>0.555707</td>\n",
       "      <td>-0.503006</td>\n",
       "      <td>3832.053834</td>\n",
       "      <td>2093.355628</td>\n",
       "      <td>1.888691e+07</td>\n",
       "    </tr>\n",
       "    <tr>\n",
       "      <th>std</th>\n",
       "      <td>354.060023</td>\n",
       "      <td>0.094335</td>\n",
       "      <td>0.0</td>\n",
       "      <td>0.0</td>\n",
       "      <td>0.0</td>\n",
       "      <td>0.040373</td>\n",
       "      <td>0.085399</td>\n",
       "      <td>0.309050</td>\n",
       "      <td>0.428128</td>\n",
       "      <td>0.463329</td>\n",
       "      <td>...</td>\n",
       "      <td>0.138594</td>\n",
       "      <td>0.063757</td>\n",
       "      <td>0.080548</td>\n",
       "      <td>0.057050</td>\n",
       "      <td>2.172673e+07</td>\n",
       "      <td>0.030714</td>\n",
       "      <td>0.045202</td>\n",
       "      <td>3432.140504</td>\n",
       "      <td>1918.941801</td>\n",
       "      <td>4.347713e+07</td>\n",
       "    </tr>\n",
       "    <tr>\n",
       "      <th>min</th>\n",
       "      <td>0.000000</td>\n",
       "      <td>0.000000</td>\n",
       "      <td>0.0</td>\n",
       "      <td>0.0</td>\n",
       "      <td>0.0</td>\n",
       "      <td>0.000000</td>\n",
       "      <td>0.000000</td>\n",
       "      <td>0.000000</td>\n",
       "      <td>0.000000</td>\n",
       "      <td>0.000000</td>\n",
       "      <td>...</td>\n",
       "      <td>0.000000</td>\n",
       "      <td>0.000000</td>\n",
       "      <td>0.000000</td>\n",
       "      <td>0.000000</td>\n",
       "      <td>0.000000e+00</td>\n",
       "      <td>0.394783</td>\n",
       "      <td>-0.932500</td>\n",
       "      <td>0.000000</td>\n",
       "      <td>0.000000</td>\n",
       "      <td>0.000000e+00</td>\n",
       "    </tr>\n",
       "    <tr>\n",
       "      <th>25%</th>\n",
       "      <td>306.250000</td>\n",
       "      <td>0.000000</td>\n",
       "      <td>0.0</td>\n",
       "      <td>0.0</td>\n",
       "      <td>0.0</td>\n",
       "      <td>0.000000</td>\n",
       "      <td>0.000000</td>\n",
       "      <td>0.000000</td>\n",
       "      <td>0.000000</td>\n",
       "      <td>0.000000</td>\n",
       "      <td>...</td>\n",
       "      <td>0.000000</td>\n",
       "      <td>0.000000</td>\n",
       "      <td>0.000000</td>\n",
       "      <td>0.000000</td>\n",
       "      <td>8.995500e+03</td>\n",
       "      <td>0.537735</td>\n",
       "      <td>-0.519845</td>\n",
       "      <td>1481.250000</td>\n",
       "      <td>797.000000</td>\n",
       "      <td>3.663000e+03</td>\n",
       "    </tr>\n",
       "    <tr>\n",
       "      <th>50%</th>\n",
       "      <td>612.500000</td>\n",
       "      <td>0.000000</td>\n",
       "      <td>0.0</td>\n",
       "      <td>0.0</td>\n",
       "      <td>0.0</td>\n",
       "      <td>0.000000</td>\n",
       "      <td>0.000000</td>\n",
       "      <td>0.000000</td>\n",
       "      <td>0.000000</td>\n",
       "      <td>0.000000</td>\n",
       "      <td>...</td>\n",
       "      <td>0.000000</td>\n",
       "      <td>0.000000</td>\n",
       "      <td>0.000000</td>\n",
       "      <td>0.000000</td>\n",
       "      <td>5.230750e+04</td>\n",
       "      <td>0.554458</td>\n",
       "      <td>-0.499713</td>\n",
       "      <td>3258.000000</td>\n",
       "      <td>1720.000000</td>\n",
       "      <td>2.502350e+04</td>\n",
       "    </tr>\n",
       "    <tr>\n",
       "      <th>75%</th>\n",
       "      <td>918.750000</td>\n",
       "      <td>0.000000</td>\n",
       "      <td>0.0</td>\n",
       "      <td>0.0</td>\n",
       "      <td>0.0</td>\n",
       "      <td>0.000000</td>\n",
       "      <td>0.000000</td>\n",
       "      <td>0.000000</td>\n",
       "      <td>0.000000</td>\n",
       "      <td>1.000000</td>\n",
       "      <td>...</td>\n",
       "      <td>0.000000</td>\n",
       "      <td>0.000000</td>\n",
       "      <td>0.000000</td>\n",
       "      <td>0.000000</td>\n",
       "      <td>7.986288e+06</td>\n",
       "      <td>0.571131</td>\n",
       "      <td>-0.480929</td>\n",
       "      <td>5370.000000</td>\n",
       "      <td>2895.000000</td>\n",
       "      <td>1.276293e+07</td>\n",
       "    </tr>\n",
       "    <tr>\n",
       "      <th>max</th>\n",
       "      <td>1225.000000</td>\n",
       "      <td>1.000000</td>\n",
       "      <td>0.0</td>\n",
       "      <td>0.0</td>\n",
       "      <td>0.0</td>\n",
       "      <td>1.000000</td>\n",
       "      <td>1.000000</td>\n",
       "      <td>1.000000</td>\n",
       "      <td>1.000000</td>\n",
       "      <td>1.000000</td>\n",
       "      <td>...</td>\n",
       "      <td>1.000000</td>\n",
       "      <td>1.000000</td>\n",
       "      <td>1.000000</td>\n",
       "      <td>1.000000</td>\n",
       "      <td>2.088063e+08</td>\n",
       "      <td>0.812850</td>\n",
       "      <td>-0.226750</td>\n",
       "      <td>39340.000000</td>\n",
       "      <td>21945.000000</td>\n",
       "      <td>2.600000e+08</td>\n",
       "    </tr>\n",
       "  </tbody>\n",
       "</table>\n",
       "<p>8 rows × 45 columns</p>\n",
       "</div>"
      ],
      "text/plain": [
       "        Unnamed: 0            G      GP       M    M/PG        NC-17  \\\n",
       "count  1226.000000  1226.000000  1226.0  1226.0  1226.0  1226.000000   \n",
       "mean    612.500000     0.008972     0.0     0.0     0.0     0.001631   \n",
       "std     354.060023     0.094335     0.0     0.0     0.0     0.040373   \n",
       "min       0.000000     0.000000     0.0     0.0     0.0     0.000000   \n",
       "25%     306.250000     0.000000     0.0     0.0     0.0     0.000000   \n",
       "50%     612.500000     0.000000     0.0     0.0     0.0     0.000000   \n",
       "75%     918.750000     0.000000     0.0     0.0     0.0     0.000000   \n",
       "max    1225.000000     1.000000     0.0     0.0     0.0     1.000000   \n",
       "\n",
       "       Not Yet Rated           PG        PG-13            R      ...       \\\n",
       "count    1226.000000  1226.000000  1226.000000  1226.000000      ...        \n",
       "mean        0.007341     0.106852     0.241436     0.311582      ...        \n",
       "std         0.085399     0.309050     0.428128     0.463329      ...        \n",
       "min         0.000000     0.000000     0.000000     0.000000      ...        \n",
       "25%         0.000000     0.000000     0.000000     0.000000      ...        \n",
       "50%         0.000000     0.000000     0.000000     0.000000      ...        \n",
       "75%         0.000000     0.000000     0.000000     1.000000      ...        \n",
       "max         1.000000     1.000000     1.000000     1.000000      ...        \n",
       "\n",
       "               War      Western      Musical         News  Opening_Weekend  \\\n",
       "count  1226.000000  1226.000000  1226.000000  1226.000000     1.226000e+03   \n",
       "mean      0.019576     0.004078     0.006525     0.003263     8.662315e+06   \n",
       "std       0.138594     0.063757     0.080548     0.057050     2.172673e+07   \n",
       "min       0.000000     0.000000     0.000000     0.000000     0.000000e+00   \n",
       "25%       0.000000     0.000000     0.000000     0.000000     8.995500e+03   \n",
       "50%       0.000000     0.000000     0.000000     0.000000     5.230750e+04   \n",
       "75%       0.000000     0.000000     0.000000     0.000000     7.986288e+06   \n",
       "max       1.000000     1.000000     1.000000     1.000000     2.088063e+08   \n",
       "\n",
       "           avg_pos      avg_neg  no_pos_comms  no_neg_comms       budget2  \n",
       "count  1225.000000  1221.000000   1226.000000   1226.000000  1.226000e+03  \n",
       "mean      0.555707    -0.503006   3832.053834   2093.355628  1.888691e+07  \n",
       "std       0.030714     0.045202   3432.140504   1918.941801  4.347713e+07  \n",
       "min       0.394783    -0.932500      0.000000      0.000000  0.000000e+00  \n",
       "25%       0.537735    -0.519845   1481.250000    797.000000  3.663000e+03  \n",
       "50%       0.554458    -0.499713   3258.000000   1720.000000  2.502350e+04  \n",
       "75%       0.571131    -0.480929   5370.000000   2895.000000  1.276293e+07  \n",
       "max       0.812850    -0.226750  39340.000000  21945.000000  2.600000e+08  \n",
       "\n",
       "[8 rows x 45 columns]"
      ]
     },
     "execution_count": 141,
     "metadata": {},
     "output_type": "execute_result"
    }
   ],
   "source": [
    "# Descriptive statistics for each column\n",
    "features.describe()"
   ]
  },
  {
   "cell_type": "code",
   "execution_count": 142,
   "metadata": {},
   "outputs": [
    {
     "data": {
      "text/plain": [
       "Index(['Unnamed: 0', 'G', 'GP', 'M', 'M/PG', 'NC-17', 'Not Yet Rated', 'PG',\n",
       "       'PG-13', 'R', 'Unknown', 'Unrated', 'X', 'averageRating', 'numVotes',\n",
       "       'runtimeMinutes', 'box office', 'Action', 'Crime', 'Drama', 'Adventure',\n",
       "       'Romance', 'Comedy', 'Sci-Fi', 'Animation', 'Family', 'Thriller',\n",
       "       'Horror', 'Mystery', 'Biography', 'History', 'Fantasy', 'Sport',\n",
       "       'Music', 'Documentary', 'War', 'Western', 'Musical', 'News',\n",
       "       'Opening_Weekend', 'avg_pos', 'avg_neg', 'no_pos_comms', 'no_neg_comms',\n",
       "       'budget2'],\n",
       "      dtype='object')"
      ]
     },
     "execution_count": 142,
     "metadata": {},
     "output_type": "execute_result"
    }
   ],
   "source": [
    "features.columns"
   ]
  },
  {
   "cell_type": "markdown",
   "metadata": {},
   "source": [
    "### Data preprocessing"
   ]
  },
  {
   "cell_type": "code",
   "execution_count": 143,
   "metadata": {},
   "outputs": [],
   "source": [
    "# Use numpy to convert to arrays\n",
    "import numpy as np\n",
    "# Labels are the values we want to predict\n",
    "labels = np.array(features['box office'])\n",
    "labels = np.array(features['Opening_Weekend'])\n",
    "# Remove the labels from the features\n",
    "# axis 1 refers to the columns\n",
    "features= features.drop('box office', axis = 1)\n",
    "features= features.drop('Opening_Weekend', axis = 1)\n",
    "#features= features.drop('Unnamed: 0', axis = 1)\n",
    "# Saving feature names for later use\n",
    "feature_list = list(features.columns)\n",
    "# Convert to numpy array\n",
    "features = np.array(features)"
   ]
  },
  {
   "cell_type": "code",
   "execution_count": 144,
   "metadata": {},
   "outputs": [],
   "source": [
    "# Replace any NaN values in features with zero\n",
    "from numpy import *\n",
    "where_are_NaNs = isnan(features)\n",
    "features[where_are_NaNs] = 0"
   ]
  },
  {
   "cell_type": "code",
   "execution_count": 145,
   "metadata": {},
   "outputs": [],
   "source": [
    "# Replace any NaN values in labels with zero\n",
    "from numpy import *\n",
    "where_are_NaNs = isnan(labels)\n",
    "labels[where_are_NaNs] = 0"
   ]
  },
  {
   "cell_type": "markdown",
   "metadata": {},
   "source": [
    "### Split the data"
   ]
  },
  {
   "cell_type": "code",
   "execution_count": 146,
   "metadata": {},
   "outputs": [],
   "source": [
    "# Using Skicit-learn to split data into training and testing sets\n",
    "from sklearn.model_selection import train_test_split\n",
    "# Split the data into training and testing sets\n",
    "train_features, test_features, train_labels, test_labels = train_test_split(features, labels, test_size = 0.25, random_state = 42)"
   ]
  },
  {
   "cell_type": "code",
   "execution_count": 147,
   "metadata": {},
   "outputs": [
    {
     "name": "stdout",
     "output_type": "stream",
     "text": [
      "Training Features Shape: (919, 43)\n",
      "Training Labels Shape: (919,)\n",
      "Testing Features Shape: (307, 43)\n",
      "Testing Labels Shape: (307,)\n"
     ]
    }
   ],
   "source": [
    "print('Training Features Shape:', train_features.shape)\n",
    "print('Training Labels Shape:', train_labels.shape)\n",
    "print('Testing Features Shape:', test_features.shape)\n",
    "print('Testing Labels Shape:', test_labels.shape)"
   ]
  },
  {
   "cell_type": "code",
   "execution_count": null,
   "metadata": {},
   "outputs": [],
   "source": []
  },
  {
   "cell_type": "code",
   "execution_count": 42,
   "metadata": {},
   "outputs": [],
   "source": []
  },
  {
   "cell_type": "markdown",
   "metadata": {},
   "source": [
    "### Random Forest Regression Model"
   ]
  },
  {
   "cell_type": "code",
   "execution_count": 148,
   "metadata": {},
   "outputs": [],
   "source": [
    "# Import the model we are using\n",
    "from sklearn.ensemble import RandomForestRegressor"
   ]
  },
  {
   "cell_type": "code",
   "execution_count": 149,
   "metadata": {},
   "outputs": [],
   "source": [
    "# Instantiate model with 1000 decision trees\n",
    "rf = RandomForestRegressor(n_estimators = 1000, random_state = 42)"
   ]
  },
  {
   "cell_type": "code",
   "execution_count": 150,
   "metadata": {
    "scrolled": true
   },
   "outputs": [
    {
     "data": {
      "text/plain": [
       "RandomForestRegressor(bootstrap=True, criterion='mse', max_depth=None,\n",
       "           max_features='auto', max_leaf_nodes=None,\n",
       "           min_impurity_decrease=0.0, min_impurity_split=None,\n",
       "           min_samples_leaf=1, min_samples_split=2,\n",
       "           min_weight_fraction_leaf=0.0, n_estimators=1000, n_jobs=1,\n",
       "           oob_score=False, random_state=42, verbose=0, warm_start=False)"
      ]
     },
     "execution_count": 150,
     "metadata": {},
     "output_type": "execute_result"
    }
   ],
   "source": [
    "# Train the model on training data\n",
    "rf.fit(train_features, train_labels)"
   ]
  },
  {
   "cell_type": "code",
   "execution_count": 134,
   "metadata": {},
   "outputs": [
    {
     "name": "stdout",
     "output_type": "stream",
     "text": [
      "Mean Absolute Error: 9903550.45 degrees.\n"
     ]
    }
   ],
   "source": [
    "# Use the forest's predict method on the test data\n",
    "predictions = rf.predict(test_features)\n",
    "# Calculate the absolute errors\n",
    "errors = abs(predictions - test_labels)\n",
    "# Print out the mean absolute error (mae)\n",
    "print('Mean Absolute Error:', round(np.mean(errors), 2), 'degrees.')"
   ]
  },
  {
   "cell_type": "code",
   "execution_count": 117,
   "metadata": {},
   "outputs": [
    {
     "name": "stdout",
     "output_type": "stream",
     "text": [
      "Accuracy: -inf %.\n"
     ]
    },
    {
     "name": "stderr",
     "output_type": "stream",
     "text": [
      "/anaconda3/lib/python3.6/site-packages/ipykernel_launcher.py:2: RuntimeWarning: divide by zero encountered in true_divide\n",
      "  \n"
     ]
    }
   ],
   "source": [
    "# Calculate mean absolute percentage error (MAPE)\n",
    "mape = 100 * (errors / test_labels)\n",
    "# Calculate and display accuracy\n",
    "accuracy = 100 - np.mean(mape)\n",
    "print('Accuracy:', round(accuracy, 2), '%.')"
   ]
  },
  {
   "cell_type": "code",
   "execution_count": 93,
   "metadata": {},
   "outputs": [],
   "source": [
    "# Import tools needed for visualization\n",
    "from sklearn.tree import export_graphviz\n",
    "import pydot\n",
    "# Pull out one tree from the forest\n",
    "tree = rf.estimators_[5]\n",
    "# Import tools needed for visualization\n",
    "from sklearn.tree import export_graphviz\n",
    "import pydot\n",
    "# Pull out one tree from the forest\n",
    "tree = rf.estimators_[5]\n",
    "# Export the image to a dot file\n",
    "export_graphviz(tree, out_file = 'tree.dot', feature_names = feature_list, rounded = True, precision = 1)\n",
    "# Use dot file to create a graph\n",
    "(graph, ) = pydot.graph_from_dot_file('tree.dot')\n",
    "# Write graph to a png file\n",
    "graph.write_png('tree.png')"
   ]
  },
  {
   "cell_type": "code",
   "execution_count": 135,
   "metadata": {},
   "outputs": [],
   "source": [
    "importances = rf.feature_importances_\n",
    "std = np.std([tree.feature_importances_ for tree in rf.estimators_],\n",
    "             axis=0)\n",
    "indices = np.argsort(importances)[::-1]"
   ]
  },
  {
   "cell_type": "code",
   "execution_count": 136,
   "metadata": {},
   "outputs": [
    {
     "name": "stdout",
     "output_type": "stream",
     "text": [
      "Feature ranking:\n",
      "1. feature 16 (0.504356)\n",
      "2. feature 14 (0.130097)\n",
      "3. feature 20 (0.095432)\n",
      "4. feature 15 (0.064876)\n",
      "5. feature 17 (0.040137)\n",
      "6. feature 0 (0.025822)\n",
      "7. feature 40 (0.023270)\n",
      "8. feature 13 (0.020962)\n",
      "9. feature 39 (0.019133)\n",
      "10. feature 42 (0.015671)\n",
      "11. feature 41 (0.014831)\n",
      "12. feature 22 (0.009084)\n",
      "13. feature 23 (0.007172)\n",
      "14. feature 31 (0.005737)\n",
      "15. feature 18 (0.003214)\n",
      "16. feature 8 (0.002752)\n",
      "17. feature 9 (0.002652)\n",
      "18. feature 27 (0.001938)\n",
      "19. feature 19 (0.001925)\n",
      "20. feature 7 (0.001921)\n",
      "21. feature 25 (0.001860)\n",
      "22. feature 26 (0.001817)\n",
      "23. feature 24 (0.001700)\n",
      "24. feature 37 (0.000940)\n",
      "25. feature 21 (0.000565)\n",
      "26. feature 11 (0.000421)\n",
      "27. feature 28 (0.000372)\n",
      "28. feature 29 (0.000369)\n",
      "29. feature 32 (0.000263)\n",
      "30. feature 36 (0.000185)\n",
      "31. feature 1 (0.000182)\n",
      "32. feature 35 (0.000166)\n",
      "33. feature 33 (0.000078)\n",
      "34. feature 30 (0.000067)\n",
      "35. feature 34 (0.000030)\n",
      "36. feature 6 (0.000000)\n",
      "37. feature 38 (0.000000)\n",
      "38. feature 10 (0.000000)\n",
      "39. feature 5 (0.000000)\n",
      "40. feature 12 (0.000000)\n",
      "41. feature 4 (0.000000)\n",
      "42. feature 3 (0.000000)\n",
      "43. feature 2 (0.000000)\n"
     ]
    }
   ],
   "source": [
    "import matplotlib.pyplot as plt\n",
    "# Print the feature ranking\n",
    "print(\"Feature ranking:\")\n",
    "\n",
    "for f in range(train_features.shape[1]):\n",
    "    print(\"%d. feature %d (%f)\" % (f + 1, indices[f], importances[indices[f]]))"
   ]
  },
  {
   "cell_type": "code",
   "execution_count": 137,
   "metadata": {},
   "outputs": [
    {
     "data": {
      "text/plain": [
       "'box office'"
      ]
     },
     "execution_count": 137,
     "metadata": {},
     "output_type": "execute_result"
    }
   ],
   "source": [
    "feature_list[16]"
   ]
  },
  {
   "cell_type": "code",
   "execution_count": 138,
   "metadata": {},
   "outputs": [
    {
     "data": {
      "image/png": "[encoded data removed]",
      "text/plain": [
       "<Figure size 432x288 with 1 Axes>"
      ]
     },
     "metadata": {},
     "output_type": "display_data"
    }
   ],
   "source": [
    "\n",
    "# Plot the feature importances of the forest\n",
    "plt.figure()\n",
    "plt.title(\"Feature importances\")\n",
    "plt.bar(range(train_features.shape[1]), importances[indices],\n",
    "       color=\"r\", yerr=std[indices], align=\"center\")\n",
    "plt.xticks(range(train_features.shape[1]), indices)\n",
    "plt.xlim([-1, train_features.shape[1]])\n",
    "plt.show()"
   ]
  },
  {
   "cell_type": "code",
   "execution_count": null,
   "metadata": {},
   "outputs": [],
   "source": []
  }
 ],
 "metadata": {
  "kernelspec": {
   "display_name": "Python 3",
   "language": "python",
   "name": "python3"
  },
  "language_info": {
   "codemirror_mode": {
    "name": "ipython",
    "version": 3
   },
   "file_extension": ".py",
   "mimetype": "text/x-python",
   "name": "python",
   "nbconvert_exporter": "python",
   "pygments_lexer": "ipython3",
   "version": "3.6.4"
  }
 },
 "nbformat": 4,
 "nbformat_minor": 2
}
